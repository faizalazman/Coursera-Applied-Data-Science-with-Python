{
 "cells": [
  {
   "cell_type": "markdown",
   "metadata": {},
   "source": [
    "# Basic Plotting with matplotlib"
   ]
  },
  {
   "cell_type": "markdown",
   "metadata": {},
   "source": [
    "You can show matplotlib figures directly in the notebook by using the `%matplotlib notebook` and `%matplotlib inline` magic commands. \n",
    "\n",
    "`%matplotlib notebook` provides an interactive environment."
   ]
  },
  {
   "cell_type": "code",
   "execution_count": 1,
   "metadata": {},
   "outputs": [],
   "source": [
    "%matplotlib notebook"
   ]
  },
  {
   "cell_type": "code",
   "execution_count": 1,
   "metadata": {},
   "outputs": [
    {
     "data": {
      "text/plain": [
       "'module://ipykernel.pylab.backend_inline'"
      ]
     },
     "execution_count": 1,
     "metadata": {},
     "output_type": "execute_result"
    }
   ],
   "source": [
    "import matplotlib as mpl\n",
    "mpl.get_backend()"
   ]
  },
  {
   "cell_type": "code",
   "execution_count": 2,
   "metadata": {},
   "outputs": [],
   "source": [
    "import matplotlib.pyplot as plt\n",
    "plt.plot?"
   ]
  },
  {
   "cell_type": "code",
   "execution_count": 3,
   "metadata": {},
   "outputs": [
    {
     "data": {
      "text/plain": [
       "[<matplotlib.lines.Line2D at 0x20e5eac9fd0>]"
      ]
     },
     "execution_count": 3,
     "metadata": {},
     "output_type": "execute_result"
    },
    {
     "data": {
      "image/png": "[encoded data removed]",
      "text/plain": [
       "<matplotlib.figure.Figure at 0x20e5daac9e8>"
      ]
     },
     "metadata": {},
     "output_type": "display_data"
    }
   ],
   "source": [
    "# because the default is the line style '-', \n",
    "# nothing will be sho\n",
    "plt.plot(3, 2)"
   ]
  },
  {
   "cell_type": "code",
   "execution_count": 4,
   "metadata": {},
   "outputs": [
    {
     "data": {
      "text/plain": [
       "[<matplotlib.lines.Line2D at 0x20e5ee387b8>]"
      ]
     },
     "execution_count": 4,
     "metadata": {},
     "output_type": "execute_result"
    },
    {
     "data": {
      "image/png": "[encoded data removed]",
      "text/plain": [
       "<matplotlib.figure.Figure at 0x20e5e80a550>"
      ]
     },
     "metadata": {},
     "output_type": "display_data"
    }
   ],
   "source": [
    "# we can pass in '.' to plt.plot to indicate that we want\n",
    "# the point (3,2) to be indicated with a marker '.'\n",
    "plt.plot(3, 2, '.')"
   ]
  },
  {
   "cell_type": "markdown",
   "metadata": {},
   "source": [
    "Let's see how to make a plot without using the scripting layer."
   ]
  },
  {
   "cell_type": "code",
   "execution_count": 5,
   "metadata": {},
   "outputs": [],
   "source": [
    "# First let's set the backend without using mpl.use() from the scripting layer\n",
    "from matplotlib.backends.backend_agg import FigureCanvasAgg\n",
    "from matplotlib.figure import Figure\n",
    "\n",
    "# create a new figure\n",
    "fig = Figure()\n",
    "\n",
    "# associate fig with the backend\n",
    "canvas = FigureCanvasAgg(fig)\n",
    "\n",
    "# add a subplot to the fig\n",
    "ax = fig.add_subplot(111)\n",
    "\n",
    "# plot the point (3,2)\n",
    "ax.plot(3, 2, '.')\n",
    "\n",
    "# save the figure to test.png\n",
    "# you can see this figure in your Jupyter workspace afterwards by going to\n",
    "# https://hub.coursera-notebooks.org/\n",
    "canvas.print_png('test.png')"
   ]
  },
  {
   "cell_type": "markdown",
   "metadata": {},
   "source": [
    "We can use html cell magic to display the image."
   ]
  },
  {
   "cell_type": "code",
   "execution_count": 6,
   "metadata": {},
   "outputs": [
    {
     "data": {
      "text/html": [
       "<img src='test.png' />"
      ],
      "text/plain": [
       "<IPython.core.display.HTML object>"
      ]
     },
     "metadata": {},
     "output_type": "display_data"
    }
   ],
   "source": [
    "%%html\n",
    "<img src='test.png' />"
   ]
  },
  {
   "cell_type": "code",
   "execution_count": 7,
   "metadata": {},
   "outputs": [
    {
     "data": {
      "text/plain": [
       "[0, 6, 0, 10]"
      ]
     },
     "execution_count": 7,
     "metadata": {},
     "output_type": "execute_result"
    },
    {
     "data": {
      "image/png": "[encoded data removed]",
      "text/plain": [
       "<matplotlib.figure.Figure at 0x20e5ee682b0>"
      ]
     },
     "metadata": {},
     "output_type": "display_data"
    }
   ],
   "source": [
    "# create a new figure\n",
    "plt.figure()\n",
    "\n",
    "# plot the point (3,2) using the circle marker\n",
    "plt.plot(3, 2, 'o')\n",
    "\n",
    "# get the current axes\n",
    "ax = plt.gca()\n",
    "\n",
    "# Set axis properties [xmin, xmax, ymin, ymax]\n",
    "ax.axis([0,6,0,10])"
   ]
  },
  {
   "cell_type": "code",
   "execution_count": 8,
   "metadata": {},
   "outputs": [
    {
     "data": {
      "text/plain": [
       "[<matplotlib.lines.Line2D at 0x20e5f028a20>]"
      ]
     },
     "execution_count": 8,
     "metadata": {},
     "output_type": "execute_result"
    },
    {
     "data": {
      "image/png": "[encoded data removed]",
      "text/plain": [
       "<matplotlib.figure.Figure at 0x20e5ee48d68>"
      ]
     },
     "metadata": {},
     "output_type": "display_data"
    }
   ],
   "source": [
    "# create a new figure\n",
    "plt.figure()\n",
    "\n",
    "# plot the point (1.5, 1.5) using the circle marker\n",
    "plt.plot(1.5, 1.5, 'o')\n",
    "# plot the point (2, 2) using the circle marker\n",
    "plt.plot(2, 2, 'o')\n",
    "# plot the point (2.5, 2.5) using the circle marker\n",
    "plt.plot(2.5, 2.5, 'o')"
   ]
  },
  {
   "cell_type": "code",
   "execution_count": 9,
   "metadata": {},
   "outputs": [
    {
     "data": {
      "text/plain": [
       "[<matplotlib.spines.Spine at 0x20e5efdab00>,\n",
       " <matplotlib.spines.Spine at 0x20e5efdacf8>,\n",
       " <matplotlib.spines.Spine at 0x20e5efda5c0>,\n",
       " <matplotlib.spines.Spine at 0x20e5ef517b8>,\n",
       " <matplotlib.axis.XAxis at 0x20e5efd3390>,\n",
       " <matplotlib.axis.YAxis at 0x20e5f0696d8>,\n",
       " <matplotlib.text.Text at 0x20e5f0849e8>,\n",
       " <matplotlib.text.Text at 0x20e5f084a58>,\n",
       " <matplotlib.text.Text at 0x20e5f084ac8>,\n",
       " <matplotlib.patches.Rectangle at 0x20e5f084b00>]"
      ]
     },
     "execution_count": 9,
     "metadata": {},
     "output_type": "execute_result"
    },
    {
     "data": {
      "image/png": "[encoded data removed]",
      "text/plain": [
       "<matplotlib.figure.Figure at 0x20e5ee68390>"
      ]
     },
     "metadata": {},
     "output_type": "display_data"
    }
   ],
   "source": [
    "# get current axes\n",
    "ax = plt.gca()\n",
    "# get all the child objects the axes contains\n",
    "ax.get_children()"
   ]
  },
  {
   "cell_type": "markdown",
   "metadata": {},
   "source": [
    "# Scatterplots"
   ]
  },
  {
   "cell_type": "code",
   "execution_count": 10,
   "metadata": {
    "scrolled": false
   },
   "outputs": [
    {
     "data": {
      "text/plain": [
       "<matplotlib.collections.PathCollection at 0x20e5f144470>"
      ]
     },
     "execution_count": 10,
     "metadata": {},
     "output_type": "execute_result"
    },
    {
     "data": {
      "image/png": "[encoded data removed]",
      "text/plain": [
       "<matplotlib.figure.Figure at 0x20e5f08d7f0>"
      ]
     },
     "metadata": {},
     "output_type": "display_data"
    }
   ],
   "source": [
    "import numpy as np\n",
    "\n",
    "x = np.array([1,2,3,4,5,6,7,8])\n",
    "y = x\n",
    "\n",
    "plt.figure()\n",
    "plt.scatter(x, y) # similar to plt.plot(x, y, '.'), but the underlying child objects in the axes are not Line2D"
   ]
  },
  {
   "cell_type": "code",
   "execution_count": 11,
   "metadata": {},
   "outputs": [
    {
     "data": {
      "text/plain": [
       "<matplotlib.collections.PathCollection at 0x20e5ef1c128>"
      ]
     },
     "execution_count": 11,
     "metadata": {},
     "output_type": "execute_result"
    },
    {
     "data": {
      "image/png": "[encoded data removed]",
      "text/plain": [
       "<matplotlib.figure.Figure at 0x20e5f0589b0>"
      ]
     },
     "metadata": {},
     "output_type": "display_data"
    }
   ],
   "source": [
    "import numpy as np\n",
    "\n",
    "x = np.array([1,2,3,4,5,6,7,8])\n",
    "y = x\n",
    "\n",
    "# create a list of colors for each point to have\n",
    "# ['green', 'green', 'green', 'green', 'green', 'green', 'green', 'red']\n",
    "colors = ['green']*(len(x)-1)\n",
    "colors.append('red')\n",
    "\n",
    "plt.figure()\n",
    "\n",
    "# plot the point with size 100 and chosen colors\n",
    "plt.scatter(x, y, s=100, c=colors)"
   ]
  },
  {
   "cell_type": "code",
   "execution_count": 12,
   "metadata": {},
   "outputs": [
    {
     "name": "stdout",
     "output_type": "stream",
     "text": [
      "[(1, 6), (2, 7), (3, 8), (4, 9), (5, 10)]\n",
      "(1, 6) (2, 7) (3, 8) (4, 9) (5, 10)\n"
     ]
    }
   ],
   "source": [
    "# convert the two lists into a list of pairwise tuples\n",
    "zip_generator = zip([1,2,3,4,5], [6,7,8,9,10])\n",
    "\n",
    "print(list(zip_generator))\n",
    "# the above prints:\n",
    "# [(1, 6), (2, 7), (3, 8), (4, 9), (5, 10)]\n",
    "\n",
    "zip_generator = zip([1,2,3,4,5], [6,7,8,9,10])\n",
    "# The single star * unpacks a collection into positional arguments\n",
    "print(*zip_generator)\n",
    "# the above prints:\n",
    "# (1, 6) (2, 7) (3, 8) (4, 9) (5, 10)"
   ]
  },
  {
   "cell_type": "code",
   "execution_count": 13,
   "metadata": {},
   "outputs": [
    {
     "name": "stdout",
     "output_type": "stream",
     "text": [
      "[(1, 2, 3, 4, 5), (6, 7, 8, 9, 10)]\n",
      "(1, 2, 3, 4, 5)\n",
      "(6, 7, 8, 9, 10)\n"
     ]
    }
   ],
   "source": [
    "# use zip to convert 5 tuples with 2 elements each to 2 tuples with 5 elements each\n",
    "print(list(zip((1, 6), (2, 7), (3, 8), (4, 9), (5, 10))))\n",
    "# the above prints:\n",
    "# [(1, 2, 3, 4, 5), (6, 7, 8, 9, 10)]\n",
    "\n",
    "\n",
    "zip_generator = zip([1,2,3,4,5], [6,7,8,9,10])\n",
    "# let's turn the data back into 2 lists\n",
    "x, y = zip(*zip_generator) # This is like calling zip((1, 6), (2, 7), (3, 8), (4, 9), (5, 10))\n",
    "print(x)\n",
    "print(y)\n",
    "# the above prints:\n",
    "# (1, 2, 3, 4, 5)\n",
    "# (6, 7, 8, 9, 10)"
   ]
  },
  {
   "cell_type": "code",
   "execution_count": 14,
   "metadata": {},
   "outputs": [
    {
     "data": {
      "text/plain": [
       "<matplotlib.collections.PathCollection at 0x20e5f1fadd8>"
      ]
     },
     "execution_count": 14,
     "metadata": {},
     "output_type": "execute_result"
    },
    {
     "data": {
      "image/png": "[encoded data removed]",
      "text/plain": [
       "<matplotlib.figure.Figure at 0x20e5f028ba8>"
      ]
     },
     "metadata": {},
     "output_type": "display_data"
    }
   ],
   "source": [
    "plt.figure()\n",
    "# plot a data series 'Tall students' in red using the first two elements of x and y\n",
    "plt.scatter(x[:2], y[:2], s=100, c='red', label='Tall students')\n",
    "# plot a second data series 'Short students' in blue using the last three elements of x and y \n",
    "plt.scatter(x[2:], y[2:], s=100, c='blue', label='Short students')"
   ]
  },
  {
   "cell_type": "code",
   "execution_count": 15,
   "metadata": {},
   "outputs": [
    {
     "data": {
      "text/plain": [
       "<matplotlib.text.Text at 0x20e5f26f9e8>"
      ]
     },
     "execution_count": 15,
     "metadata": {},
     "output_type": "execute_result"
    },
    {
     "data": {
      "image/png": "[encoded data removed]",
      "text/plain": [
       "<matplotlib.figure.Figure at 0x20e5f18c5c0>"
      ]
     },
     "metadata": {},
     "output_type": "display_data"
    }
   ],
   "source": [
    "# add a label to the x axis\n",
    "plt.xlabel('The number of times the child kicked a ball')\n",
    "# add a label to the y axis\n",
    "plt.ylabel('The grade of the student')\n",
    "# add a title\n",
    "plt.title('Relationship between ball kicking and grades')"
   ]
  },
  {
   "cell_type": "code",
   "execution_count": 16,
   "metadata": {},
   "outputs": [
    {
     "name": "stderr",
     "output_type": "stream",
     "text": [
      "C:\\Users\\Parmenides\\Anaconda3\\lib\\site-packages\\matplotlib\\axes\\_axes.py:545: UserWarning: No labelled objects found. Use label='...' kwarg on individual plots.\n",
      "  warnings.warn(\"No labelled objects found. \"\n"
     ]
    },
    {
     "data": {
      "image/png": "[encoded data removed]",
      "text/plain": [
       "<matplotlib.figure.Figure at 0x20e5f0773c8>"
      ]
     },
     "metadata": {},
     "output_type": "display_data"
    }
   ],
   "source": [
    "# add a legend (uses the labels from plt.scatter)\n",
    "plt.legend()"
   ]
  },
  {
   "cell_type": "code",
   "execution_count": 17,
   "metadata": {},
   "outputs": [
    {
     "name": "stderr",
     "output_type": "stream",
     "text": [
      "C:\\Users\\Parmenides\\Anaconda3\\lib\\site-packages\\matplotlib\\axes\\_axes.py:545: UserWarning: No labelled objects found. Use label='...' kwarg on individual plots.\n",
      "  warnings.warn(\"No labelled objects found. \"\n"
     ]
    },
    {
     "data": {
      "image/png": "[encoded data removed]",
      "text/plain": [
       "<matplotlib.figure.Figure at 0x20e5f133ac8>"
      ]
     },
     "metadata": {},
     "output_type": "display_data"
    }
   ],
   "source": [
    "# add the legend to loc=4 (the lower right hand corner), also gets rid of the frame and adds a title\n",
    "plt.legend(loc=4, frameon=False, title='Legend')"
   ]
  },
  {
   "cell_type": "code",
   "execution_count": 18,
   "metadata": {},
   "outputs": [
    {
     "data": {
      "text/plain": [
       "[<matplotlib.spines.Spine at 0x20e5f2dc630>,\n",
       " <matplotlib.spines.Spine at 0x20e5f2dc358>,\n",
       " <matplotlib.spines.Spine at 0x20e5f2bc908>,\n",
       " <matplotlib.spines.Spine at 0x20e60426f60>,\n",
       " <matplotlib.axis.XAxis at 0x20e60426438>,\n",
       " <matplotlib.axis.YAxis at 0x20e5f2c2e48>,\n",
       " <matplotlib.text.Text at 0x20e60462fd0>,\n",
       " <matplotlib.text.Text at 0x20e6046a080>,\n",
       " <matplotlib.text.Text at 0x20e6046a0f0>,\n",
       " <matplotlib.patches.Rectangle at 0x20e6046a128>]"
      ]
     },
     "execution_count": 18,
     "metadata": {},
     "output_type": "execute_result"
    },
    {
     "data": {
      "image/png": "[encoded data removed]",
      "text/plain": [
       "<matplotlib.figure.Figure at 0x20e5f07e898>"
      ]
     },
     "metadata": {},
     "output_type": "display_data"
    }
   ],
   "source": [
    "# get children from current axes (the legend is the second to last item in this list)\n",
    "plt.gca().get_children()"
   ]
  },
  {
   "cell_type": "code",
   "execution_count": 19,
   "metadata": {},
   "outputs": [
    {
     "data": {
      "image/png": "[encoded data removed]",
      "text/plain": [
       "<matplotlib.figure.Figure at 0x20e5f070080>"
      ]
     },
     "metadata": {},
     "output_type": "display_data"
    }
   ],
   "source": [
    "# get the legend from the current axes\n",
    "legend = plt.gca().get_children()[-2]"
   ]
  },
  {
   "cell_type": "code",
   "execution_count": 20,
   "metadata": {},
   "outputs": [
    {
     "ename": "IndexError",
     "evalue": "list index out of range",
     "output_type": "error",
     "traceback": [
      "\u001b[1;31m---------------------------------------------------------------------------\u001b[0m",
      "\u001b[1;31mIndexError\u001b[0m                                Traceback (most recent call last)",
      "\u001b[1;32m<ipython-input-20-06380a03f01e>\u001b[0m in \u001b[0;36m<module>\u001b[1;34m()\u001b[0m\n\u001b[0;32m      1\u001b[0m \u001b[1;31m# you can use get_children to navigate through the child artists\u001b[0m\u001b[1;33m\u001b[0m\u001b[1;33m\u001b[0m\u001b[0m\n\u001b[1;32m----> 2\u001b[1;33m \u001b[0mlegend\u001b[0m\u001b[1;33m.\u001b[0m\u001b[0mget_children\u001b[0m\u001b[1;33m(\u001b[0m\u001b[1;33m)\u001b[0m\u001b[1;33m[\u001b[0m\u001b[1;36m0\u001b[0m\u001b[1;33m]\u001b[0m\u001b[1;33m.\u001b[0m\u001b[0mget_children\u001b[0m\u001b[1;33m(\u001b[0m\u001b[1;33m)\u001b[0m\u001b[1;33m[\u001b[0m\u001b[1;36m1\u001b[0m\u001b[1;33m]\u001b[0m\u001b[1;33m.\u001b[0m\u001b[0mget_children\u001b[0m\u001b[1;33m(\u001b[0m\u001b[1;33m)\u001b[0m\u001b[1;33m[\u001b[0m\u001b[1;36m0\u001b[0m\u001b[1;33m]\u001b[0m\u001b[1;33m.\u001b[0m\u001b[0mget_children\u001b[0m\u001b[1;33m(\u001b[0m\u001b[1;33m)\u001b[0m\u001b[1;33m\u001b[0m\u001b[0m\n\u001b[0m",
      "\u001b[1;31mIndexError\u001b[0m: list index out of range"
     ]
    }
   ],
   "source": [
    "# you can use get_children to navigate through the child artists\n",
    "legend.get_children()[0].get_children()[1].get_children()[0].get_children()"
   ]
  },
  {
   "cell_type": "code",
   "execution_count": 21,
   "metadata": {},
   "outputs": [
    {
     "name": "stderr",
     "output_type": "stream",
     "text": [
      "C:\\Users\\Parmenides\\Anaconda3\\lib\\site-packages\\matplotlib\\axes\\_axes.py:545: UserWarning: No labelled objects found. Use label='...' kwarg on individual plots.\n",
      "  warnings.warn(\"No labelled objects found. \"\n"
     ]
    },
    {
     "data": {
      "image/png": "[encoded data removed]",
      "text/plain": [
       "<matplotlib.figure.Figure at 0x20e603a2278>"
      ]
     },
     "metadata": {},
     "output_type": "display_data"
    }
   ],
   "source": [
    "# import the artist class from matplotlib\n",
    "from matplotlib.artist import Artist\n",
    "\n",
    "def rec_gc(art, depth=0):\n",
    "    if isinstance(art, Artist):\n",
    "        # increase the depth for pretty printing\n",
    "        print(\"  \" * depth + str(art))\n",
    "        for child in art.get_children():\n",
    "            rec_gc(child, depth+2)\n",
    "\n",
    "# Call this function on the legend artist to see what the legend is made up of\n",
    "rec_gc(plt.legend())"
   ]
  },
  {
   "cell_type": "markdown",
   "metadata": {},
   "source": [
    "# Line Plots"
   ]
  },
  {
   "cell_type": "code",
   "execution_count": 22,
   "metadata": {},
   "outputs": [
    {
     "data": {
      "text/plain": [
       "[<matplotlib.lines.Line2D at 0x20e606bba90>,\n",
       " <matplotlib.lines.Line2D at 0x20e606bbc18>]"
      ]
     },
     "execution_count": 22,
     "metadata": {},
     "output_type": "execute_result"
    },
    {
     "data": {
      "image/png": "[encoded data removed]",
      "text/plain": [
       "<matplotlib.figure.Figure at 0x20e5f2b3ba8>"
      ]
     },
     "metadata": {},
     "output_type": "display_data"
    }
   ],
   "source": [
    "import numpy as np\n",
    "\n",
    "linear_data = np.array([1,2,3,4,5,6,7,8])\n",
    "exponential_data = linear_data**2\n",
    "\n",
    "plt.figure()\n",
    "# plot the linear data and the exponential data\n",
    "plt.plot(linear_data, '-o', exponential_data, '-o')"
   ]
  },
  {
   "cell_type": "code",
   "execution_count": 23,
   "metadata": {},
   "outputs": [
    {
     "data": {
      "text/plain": [
       "[<matplotlib.lines.Line2D at 0x20e60757b00>]"
      ]
     },
     "execution_count": 23,
     "metadata": {},
     "output_type": "execute_result"
    },
    {
     "data": {
      "image/png": "[encoded data removed]",
      "text/plain": [
       "<matplotlib.figure.Figure at 0x20e5f2777f0>"
      ]
     },
     "metadata": {},
     "output_type": "display_data"
    }
   ],
   "source": [
    "# plot another series with a dashed red line\n",
    "plt.plot([22,44,55], '--r')"
   ]
  },
  {
   "cell_type": "code",
   "execution_count": 24,
   "metadata": {},
   "outputs": [
    {
     "data": {
      "text/plain": [
       "<matplotlib.legend.Legend at 0x20e60784748>"
      ]
     },
     "execution_count": 24,
     "metadata": {},
     "output_type": "execute_result"
    },
    {
     "data": {
      "image/png": "[encoded data removed]",
      "text/plain": [
       "<matplotlib.figure.Figure at 0x20e604d4e10>"
      ]
     },
     "metadata": {},
     "output_type": "display_data"
    }
   ],
   "source": [
    "plt.xlabel('Some data')\n",
    "plt.ylabel('Some other data')\n",
    "plt.title('A title')\n",
    "# add a legend with legend entries (because we didn't have labels when we plotted the data series)\n",
    "plt.legend(['Baseline', 'Competition', 'Us'])"
   ]
  },
  {
   "cell_type": "code",
   "execution_count": 25,
   "metadata": {},
   "outputs": [
    {
     "data": {
      "text/plain": [
       "<matplotlib.collections.PolyCollection at 0x20e603c3eb8>"
      ]
     },
     "execution_count": 25,
     "metadata": {},
     "output_type": "execute_result"
    },
    {
     "data": {
      "image/png": "[encoded data removed]",
      "text/plain": [
       "<matplotlib.figure.Figure at 0x20e5f215ac8>"
      ]
     },
     "metadata": {},
     "output_type": "display_data"
    }
   ],
   "source": [
    "# fill the area between the linear data and exponential data\n",
    "plt.gca().fill_between(range(len(linear_data)), \n",
    "                       linear_data, exponential_data, \n",
    "                       facecolor='blue', \n",
    "                       alpha=0.25)"
   ]
  },
  {
   "cell_type": "markdown",
   "metadata": {},
   "source": [
    "Let's try working with dates!"
   ]
  },
  {
   "cell_type": "code",
   "execution_count": 26,
   "metadata": {},
   "outputs": [
    {
     "data": {
      "text/plain": [
       "[<matplotlib.lines.Line2D at 0x20e602d06a0>,\n",
       " <matplotlib.lines.Line2D at 0x20e602d0780>]"
      ]
     },
     "execution_count": 26,
     "metadata": {},
     "output_type": "execute_result"
    },
    {
     "data": {
      "image/png": "[encoded data removed]",
      "text/plain": [
       "<matplotlib.figure.Figure at 0x20e60513d30>"
      ]
     },
     "metadata": {},
     "output_type": "display_data"
    }
   ],
   "source": [
    "plt.figure()\n",
    "\n",
    "observation_dates = np.arange('2017-01-01', '2017-01-09', dtype='datetime64[D]')\n",
    "\n",
    "plt.plot(observation_dates, linear_data, '-o',  observation_dates, exponential_data, '-o')"
   ]
  },
  {
   "cell_type": "markdown",
   "metadata": {},
   "source": [
    "Let's try using pandas"
   ]
  },
  {
   "cell_type": "code",
   "execution_count": 27,
   "metadata": {},
   "outputs": [
    {
     "data": {
      "text/plain": [
       "[<matplotlib.lines.Line2D at 0x20e6149fba8>,\n",
       " <matplotlib.lines.Line2D at 0x20e614e32e8>]"
      ]
     },
     "execution_count": 27,
     "metadata": {},
     "output_type": "execute_result"
    },
    {
     "data": {
      "image/png": "[encoded data removed]",
      "text/plain": [
       "<matplotlib.figure.Figure at 0x20e607c4940>"
      ]
     },
     "metadata": {},
     "output_type": "display_data"
    }
   ],
   "source": [
    "import pandas as pd\n",
    "plt.figure()\n",
    "observation_dates = np.arange('2017-01-01', '2017-01-09', dtype='datetime64[D]')\n",
    "observation_dates = list(map(pd.to_datetime, observation_dates)) # convert the map to a list to get rid of the error\n",
    "plt.plot(observation_dates, linear_data, '-o',  observation_dates, exponential_data, '-o')"
   ]
  },
  {
   "cell_type": "code",
   "execution_count": 28,
   "metadata": {},
   "outputs": [
    {
     "data": {
      "image/png": "[encoded data removed]",
      "text/plain": [
       "<matplotlib.figure.Figure at 0x20e604d4550>"
      ]
     },
     "metadata": {},
     "output_type": "display_data"
    }
   ],
   "source": [
    "x = plt.gca().xaxis\n",
    "\n",
    "# rotate the tick labels for the x axis\n",
    "for item in x.get_ticklabels():\n",
    "    item.set_rotation(45)"
   ]
  },
  {
   "cell_type": "code",
   "execution_count": 29,
   "metadata": {},
   "outputs": [
    {
     "data": {
      "text/plain": [
       "<matplotlib.figure.Figure at 0x20e5f268630>"
      ]
     },
     "metadata": {},
     "output_type": "display_data"
    }
   ],
   "source": [
    "# adjust the subplot so the text doesn't run off the image\n",
    "plt.subplots_adjust(bottom=0.25)"
   ]
  },
  {
   "cell_type": "code",
   "execution_count": 30,
   "metadata": {},
   "outputs": [
    {
     "data": {
      "text/plain": [
       "<matplotlib.text.Text at 0x20e615f1f98>"
      ]
     },
     "execution_count": 30,
     "metadata": {},
     "output_type": "execute_result"
    },
    {
     "data": {
      "image/png": "[encoded data removed]",
      "text/plain": [
       "<matplotlib.figure.Figure at 0x20e6154eac8>"
      ]
     },
     "metadata": {},
     "output_type": "display_data"
    }
   ],
   "source": [
    "ax = plt.gca()\n",
    "ax.set_xlabel('Date')\n",
    "ax.set_ylabel('Units')\n",
    "ax.set_title('Exponential vs. Linear performance')"
   ]
  },
  {
   "cell_type": "code",
   "execution_count": 31,
   "metadata": {},
   "outputs": [
    {
     "data": {
      "text/plain": [
       "<matplotlib.text.Text at 0x20e615f1f98>"
      ]
     },
     "execution_count": 31,
     "metadata": {},
     "output_type": "execute_result"
    }
   ],
   "source": [
    "# you can add mathematical expressions in any text element\n",
    "ax.set_title(\"Exponential ($x^2$) vs. Linear ($x$) performance\")"
   ]
  },
  {
   "cell_type": "markdown",
   "metadata": {},
   "source": [
    "# Bar Charts"
   ]
  },
  {
   "cell_type": "code",
   "execution_count": 32,
   "metadata": {},
   "outputs": [
    {
     "data": {
      "text/plain": [
       "<Container object of 8 artists>"
      ]
     },
     "execution_count": 32,
     "metadata": {},
     "output_type": "execute_result"
    },
    {
     "data": {
      "image/png": "[encoded data removed]",
      "text/plain": [
       "<matplotlib.figure.Figure at 0x20e5ef70dd8>"
      ]
     },
     "metadata": {},
     "output_type": "display_data"
    }
   ],
   "source": [
    "plt.figure()\n",
    "xvals = range(len(linear_data))\n",
    "plt.bar(xvals, linear_data, width = 0.3)\n"
   ]
  },
  {
   "cell_type": "code",
   "execution_count": 33,
   "metadata": {},
   "outputs": [
    {
     "data": {
      "text/plain": [
       "<Container object of 8 artists>"
      ]
     },
     "execution_count": 33,
     "metadata": {},
     "output_type": "execute_result"
    },
    {
     "data": {
      "image/png": "[encoded data removed]",
      "text/plain": [
       "<matplotlib.figure.Figure at 0x20e606c4ac8>"
      ]
     },
     "metadata": {},
     "output_type": "display_data"
    }
   ],
   "source": [
    "new_xvals = []\n",
    "\n",
    "# plot another set of bars, adjusting the new xvals to make up for the first set of bars plotted\n",
    "for item in xvals:\n",
    "    new_xvals.append(item+0.3)\n",
    "\n",
    "plt.bar(new_xvals, exponential_data, width = 0.3 ,color='red')\n"
   ]
  },
  {
   "cell_type": "code",
   "execution_count": 34,
   "metadata": {
    "scrolled": true
   },
   "outputs": [
    {
     "data": {
      "text/plain": [
       "<Container object of 8 artists>"
      ]
     },
     "execution_count": 34,
     "metadata": {},
     "output_type": "execute_result"
    },
    {
     "data": {
      "image/png": "[encoded data removed]",
      "text/plain": [
       "<matplotlib.figure.Figure at 0x20e606e1be0>"
      ]
     },
     "metadata": {},
     "output_type": "display_data"
    }
   ],
   "source": [
    "from random import randint\n",
    "linear_err = [randint(0,15) for x in range(len(linear_data))] \n",
    "\n",
    "# This will plot a new set of bars with errorbars using the list of random error values\n",
    "plt.bar(xvals, linear_data, width = 0.3, yerr=linear_err)\n"
   ]
  },
  {
   "cell_type": "code",
   "execution_count": 35,
   "metadata": {},
   "outputs": [
    {
     "data": {
      "text/plain": [
       "<Container object of 8 artists>"
      ]
     },
     "execution_count": 35,
     "metadata": {},
     "output_type": "execute_result"
    },
    {
     "data": {
      "image/png": "[encoded data removed]",
      "text/plain": [
       "<matplotlib.figure.Figure at 0x20e60707940>"
      ]
     },
     "metadata": {},
     "output_type": "display_data"
    }
   ],
   "source": [
    "# stacked bar charts are also possible\n",
    "plt.figure()\n",
    "xvals = range(len(linear_data))\n",
    "plt.bar(xvals, linear_data, width = 0.3, color='b')\n",
    "plt.bar(xvals, exponential_data, width = 0.3, bottom=linear_data, color='r')\n"
   ]
  },
  {
   "cell_type": "code",
   "execution_count": 37,
   "metadata": {
    "scrolled": true
   },
   "outputs": [
    {
     "data": {
      "application/javascript": [
       "/* Put everything inside the global mpl namespace */\n",
       "window.mpl = {};\n",
       "\n",
       "\n",
       "mpl.get_websocket_type = function() {\n",
       "    if (typeof(WebSocket) !== 'undefined') {\n",
       "        return WebSocket;\n",
       "    } else if (typeof(MozWebSocket) !== 'undefined') {\n",
       "        return MozWebSocket;\n",
       "    } else {\n",
       "        alert('Your browser does not have WebSocket support.' +\n",
       "              'Please try Chrome, Safari or Firefox ≥ 6. ' +\n",
       "              'Firefox 4 and 5 are also supported but you ' +\n",
       "              'have to enable WebSockets in about:config.');\n",
       "    };\n",
       "}\n",
       "\n",
       "mpl.figure = function(figure_id, websocket, ondownload, parent_element) {\n",
       "    this.id = figure_id;\n",
       "\n",
       "    this.ws = websocket;\n",
       "\n",
       "    this.supports_binary = (this.ws.binaryType != undefined);\n",
       "\n",
       "    if (!this.supports_binary) {\n",
       "        var warnings = document.getElementById(\"mpl-warnings\");\n",
       "        if (warnings) {\n",
       "            warnings.style.display = 'block';\n",
       "            warnings.textContent = (\n",
       "                \"This browser does not support binary websocket messages. \" +\n",
       "                    \"Performance may be slow.\");\n",
       "        }\n",
       "    }\n",
       "\n",
       "    this.imageObj = new Image();\n",
       "\n",
       "    this.context = undefined;\n",
       "    this.message = undefined;\n",
       "    this.canvas = undefined;\n",
       "    this.rubberband_canvas = undefined;\n",
       "    this.rubberband_context = undefined;\n",
       "    this.format_dropdown = undefined;\n",
       "\n",
       "    this.image_mode = 'full';\n",
       "\n",
       "    this.root = $('<div/>');\n",
       "    this._root_extra_style(this.root)\n",
       "    this.root.attr('style', 'display: inline-block');\n",
       "\n",
       "    $(parent_element).append(this.root);\n",
       "\n",
       "    this._init_header(this);\n",
       "    this._init_canvas(this);\n",
       "    this._init_toolbar(this);\n",
       "\n",
       "    var fig = this;\n",
       "\n",
       "    this.waiting = false;\n",
       "\n",
       "    this.ws.onopen =  function () {\n",
       "            fig.send_message(\"supports_binary\", {value: fig.supports_binary});\n",
       "            fig.send_message(\"send_image_mode\", {});\n",
       "            if (mpl.ratio != 1) {\n",
       "                fig.send_message(\"set_dpi_ratio\", {'dpi_ratio': mpl.ratio});\n",
       "            }\n",
       "            fig.send_message(\"refresh\", {});\n",
       "        }\n",
       "\n",
       "    this.imageObj.onload = function() {\n",
       "            if (fig.image_mode == 'full') {\n",
       "                // Full images could contain transparency (where diff images\n",
       "                // almost always do), so we need to clear the canvas so that\n",
       "                // there is no ghosting.\n",
       "                fig.context.clearRect(0, 0, fig.canvas.width, fig.canvas.height);\n",
       "            }\n",
       "            fig.context.drawImage(fig.imageObj, 0, 0);\n",
       "        };\n",
       "\n",
       "    this.imageObj.onunload = function() {\n",
       "        this.ws.close();\n",
       "    }\n",
       "\n",
       "    this.ws.onmessage = this._make_on_message_function(this);\n",
       "\n",
       "    this.ondownload = ondownload;\n",
       "}\n",
       "\n",
       "mpl.figure.prototype._init_header = function() {\n",
       "    var titlebar = $(\n",
       "        '<div class=\"ui-dialog-titlebar ui-widget-header ui-corner-all ' +\n",
       "        'ui-helper-clearfix\"/>');\n",
       "    var titletext = $(\n",
       "        '<div class=\"ui-dialog-title\" style=\"width: 100%; ' +\n",
       "        'text-align: center; padding: 3px;\"/>');\n",
       "    titlebar.append(titletext)\n",
       "    this.root.append(titlebar);\n",
       "    this.header = titletext[0];\n",
       "}\n",
       "\n",
       "\n",
       "\n",
       "mpl.figure.prototype._canvas_extra_style = function(canvas_div) {\n",
       "\n",
       "}\n",
       "\n",
       "\n",
       "mpl.figure.prototype._root_extra_style = function(canvas_div) {\n",
       "\n",
       "}\n",
       "\n",
       "mpl.figure.prototype._init_canvas = function() {\n",
       "    var fig = this;\n",
       "\n",
       "    var canvas_div = $('<div/>');\n",
       "\n",
       "    canvas_div.attr('style', 'position: relative; clear: both; outline: 0');\n",
       "\n",
       "    function canvas_keyboard_event(event) {\n",
       "        return fig.key_event(event, event['data']);\n",
       "    }\n",
       "\n",
       "    canvas_div.keydown('key_press', canvas_keyboard_event);\n",
       "    canvas_div.keyup('key_release', canvas_keyboard_event);\n",
       "    this.canvas_div = canvas_div\n",
       "    this._canvas_extra_style(canvas_div)\n",
       "    this.root.append(canvas_div);\n",
       "\n",
       "    var canvas = $('<canvas/>');\n",
       "    canvas.addClass('mpl-canvas');\n",
       "    canvas.attr('style', \"left: 0; top: 0; z-index: 0; outline: 0\")\n",
       "\n",
       "    this.canvas = canvas[0];\n",
       "    this.context = canvas[0].getContext(\"2d\");\n",
       "\n",
       "    var backingStore = this.context.backingStorePixelRatio ||\n",
       "\tthis.context.webkitBackingStorePixelRatio ||\n",
       "\tthis.context.mozBackingStorePixelRatio ||\n",
       "\tthis.context.msBackingStorePixelRatio ||\n",
       "\tthis.context.oBackingStorePixelRatio ||\n",
       "\tthis.context.backingStorePixelRatio || 1;\n",
       "\n",
       "    mpl.ratio = (window.devicePixelRatio || 1) / backingStore;\n",
       "\n",
       "    var rubberband = $('<canvas/>');\n",
       "    rubberband.attr('style', \"position: absolute; left: 0; top: 0; z-index: 1;\")\n",
       "\n",
       "    var pass_mouse_events = true;\n",
       "\n",
       "    canvas_div.resizable({\n",
       "        start: function(event, ui) {\n",
       "            pass_mouse_events = false;\n",
       "        },\n",
       "        resize: function(event, ui) {\n",
       "            fig.request_resize(ui.size.width, ui.size.height);\n",
       "        },\n",
       "        stop: function(event, ui) {\n",
       "            pass_mouse_events = true;\n",
       "            fig.request_resize(ui.size.width, ui.size.height);\n",
       "        },\n",
       "    });\n",
       "\n",
       "    function mouse_event_fn(event) {\n",
       "        if (pass_mouse_events)\n",
       "            return fig.mouse_event(event, event['data']);\n",
       "    }\n",
       "\n",
       "    rubberband.mousedown('button_press', mouse_event_fn);\n",
       "    rubberband.mouseup('button_release', mouse_event_fn);\n",
       "    // Throttle sequential mouse events to 1 every 20ms.\n",
       "    rubberband.mousemove('motion_notify', mouse_event_fn);\n",
       "\n",
       "    rubberband.mouseenter('figure_enter', mouse_event_fn);\n",
       "    rubberband.mouseleave('figure_leave', mouse_event_fn);\n",
       "\n",
       "    canvas_div.on(\"wheel\", function (event) {\n",
       "        event = event.originalEvent;\n",
       "        event['data'] = 'scroll'\n",
       "        if (event.deltaY < 0) {\n",
       "            event.step = 1;\n",
       "        } else {\n",
       "            event.step = -1;\n",
       "        }\n",
       "        mouse_event_fn(event);\n",
       "    });\n",
       "\n",
       "    canvas_div.append(canvas);\n",
       "    canvas_div.append(rubberband);\n",
       "\n",
       "    this.rubberband = rubberband;\n",
       "    this.rubberband_canvas = rubberband[0];\n",
       "    this.rubberband_context = rubberband[0].getContext(\"2d\");\n",
       "    this.rubberband_context.strokeStyle = \"#000000\";\n",
       "\n",
       "    this._resize_canvas = function(width, height) {\n",
       "        // Keep the size of the canvas, canvas container, and rubber band\n",
       "        // canvas in synch.\n",
       "        canvas_div.css('width', width)\n",
       "        canvas_div.css('height', height)\n",
       "\n",
       "        canvas.attr('width', width * mpl.ratio);\n",
       "        canvas.attr('height', height * mpl.ratio);\n",
       "        canvas.attr('style', 'width: ' + width + 'px; height: ' + height + 'px;');\n",
       "\n",
       "        rubberband.attr('width', width);\n",
       "        rubberband.attr('height', height);\n",
       "    }\n",
       "\n",
       "    // Set the figure to an initial 600x600px, this will subsequently be updated\n",
       "    // upon first draw.\n",
       "    this._resize_canvas(600, 600);\n",
       "\n",
       "    // Disable right mouse context menu.\n",
       "    $(this.rubberband_canvas).bind(\"contextmenu\",function(e){\n",
       "        return false;\n",
       "    });\n",
       "\n",
       "    function set_focus () {\n",
       "        canvas.focus();\n",
       "        canvas_div.focus();\n",
       "    }\n",
       "\n",
       "    window.setTimeout(set_focus, 100);\n",
       "}\n",
       "\n",
       "mpl.figure.prototype._init_toolbar = function() {\n",
       "    var fig = this;\n",
       "\n",
       "    var nav_element = $('<div/>')\n",
       "    nav_element.attr('style', 'width: 100%');\n",
       "    this.root.append(nav_element);\n",
       "\n",
       "    // Define a callback function for later on.\n",
       "    function toolbar_event(event) {\n",
       "        return fig.toolbar_button_onclick(event['data']);\n",
       "    }\n",
       "    function toolbar_mouse_event(event) {\n",
       "        return fig.toolbar_button_onmouseover(event['data']);\n",
       "    }\n",
       "\n",
       "    for(var toolbar_ind in mpl.toolbar_items) {\n",
       "        var name = mpl.toolbar_items[toolbar_ind][0];\n",
       "        var tooltip = mpl.toolbar_items[toolbar_ind][1];\n",
       "        var image = mpl.toolbar_items[toolbar_ind][2];\n",
       "        var method_name = mpl.toolbar_items[toolbar_ind][3];\n",
       "\n",
       "        if (!name) {\n",
       "            // put a spacer in here.\n",
       "            continue;\n",
       "        }\n",
       "        var button = $('<button/>');\n",
       "        button.addClass('ui-button ui-widget ui-state-default ui-corner-all ' +\n",
       "                        'ui-button-icon-only');\n",
       "        button.attr('role', 'button');\n",
       "        button.attr('aria-disabled', 'false');\n",
       "        button.click(method_name, toolbar_event);\n",
       "        button.mouseover(tooltip, toolbar_mouse_event);\n",
       "\n",
       "        var icon_img = $('<span/>');\n",
       "        icon_img.addClass('ui-button-icon-primary ui-icon');\n",
       "        icon_img.addClass(image);\n",
       "        icon_img.addClass('ui-corner-all');\n",
       "\n",
       "        var tooltip_span = $('<span/>');\n",
       "        tooltip_span.addClass('ui-button-text');\n",
       "        tooltip_span.html(tooltip);\n",
       "\n",
       "        button.append(icon_img);\n",
       "        button.append(tooltip_span);\n",
       "\n",
       "        nav_element.append(button);\n",
       "    }\n",
       "\n",
       "    var fmt_picker_span = $('<span/>');\n",
       "\n",
       "    var fmt_picker = $('<select/>');\n",
       "    fmt_picker.addClass('mpl-toolbar-option ui-widget ui-widget-content');\n",
       "    fmt_picker_span.append(fmt_picker);\n",
       "    nav_element.append(fmt_picker_span);\n",
       "    this.format_dropdown = fmt_picker[0];\n",
       "\n",
       "    for (var ind in mpl.extensions) {\n",
       "        var fmt = mpl.extensions[ind];\n",
       "        var option = $(\n",
       "            '<option/>', {selected: fmt === mpl.default_extension}).html(fmt);\n",
       "        fmt_picker.append(option)\n",
       "    }\n",
       "\n",
       "    // Add hover states to the ui-buttons\n",
       "    $( \".ui-button\" ).hover(\n",
       "        function() { $(this).addClass(\"ui-state-hover\");},\n",
       "        function() { $(this).removeClass(\"ui-state-hover\");}\n",
       "    );\n",
       "\n",
       "    var status_bar = $('<span class=\"mpl-message\"/>');\n",
       "    nav_element.append(status_bar);\n",
       "    this.message = status_bar[0];\n",
       "}\n",
       "\n",
       "mpl.figure.prototype.request_resize = function(x_pixels, y_pixels) {\n",
       "    // Request matplotlib to resize the figure. Matplotlib will then trigger a resize in the client,\n",
       "    // which will in turn request a refresh of the image.\n",
       "    this.send_message('resize', {'width': x_pixels, 'height': y_pixels});\n",
       "}\n",
       "\n",
       "mpl.figure.prototype.send_message = function(type, properties) {\n",
       "    properties['type'] = type;\n",
       "    properties['figure_id'] = this.id;\n",
       "    this.ws.send(JSON.stringify(properties));\n",
       "}\n",
       "\n",
       "mpl.figure.prototype.send_draw_message = function() {\n",
       "    if (!this.waiting) {\n",
       "        this.waiting = true;\n",
       "        this.ws.send(JSON.stringify({type: \"draw\", figure_id: this.id}));\n",
       "    }\n",
       "}\n",
       "\n",
       "\n",
       "mpl.figure.prototype.handle_save = function(fig, msg) {\n",
       "    var format_dropdown = fig.format_dropdown;\n",
       "    var format = format_dropdown.options[format_dropdown.selectedIndex].value;\n",
       "    fig.ondownload(fig, format);\n",
       "}\n",
       "\n",
       "\n",
       "mpl.figure.prototype.handle_resize = function(fig, msg) {\n",
       "    var size = msg['size'];\n",
       "    if (size[0] != fig.canvas.width || size[1] != fig.canvas.height) {\n",
       "        fig._resize_canvas(size[0], size[1]);\n",
       "        fig.send_message(\"refresh\", {});\n",
       "    };\n",
       "}\n",
       "\n",
       "mpl.figure.prototype.handle_rubberband = function(fig, msg) {\n",
       "    var x0 = msg['x0'] / mpl.ratio;\n",
       "    var y0 = (fig.canvas.height - msg['y0']) / mpl.ratio;\n",
       "    var x1 = msg['x1'] / mpl.ratio;\n",
       "    var y1 = (fig.canvas.height - msg['y1']) / mpl.ratio;\n",
       "    x0 = Math.floor(x0) + 0.5;\n",
       "    y0 = Math.floor(y0) + 0.5;\n",
       "    x1 = Math.floor(x1) + 0.5;\n",
       "    y1 = Math.floor(y1) + 0.5;\n",
       "    var min_x = Math.min(x0, x1);\n",
       "    var min_y = Math.min(y0, y1);\n",
       "    var width = Math.abs(x1 - x0);\n",
       "    var height = Math.abs(y1 - y0);\n",
       "\n",
       "    fig.rubberband_context.clearRect(\n",
       "        0, 0, fig.canvas.width, fig.canvas.height);\n",
       "\n",
       "    fig.rubberband_context.strokeRect(min_x, min_y, width, height);\n",
       "}\n",
       "\n",
       "mpl.figure.prototype.handle_figure_label = function(fig, msg) {\n",
       "    // Updates the figure title.\n",
       "    fig.header.textContent = msg['label'];\n",
       "}\n",
       "\n",
       "mpl.figure.prototype.handle_cursor = function(fig, msg) {\n",
       "    var cursor = msg['cursor'];\n",
       "    switch(cursor)\n",
       "    {\n",
       "    case 0:\n",
       "        cursor = 'pointer';\n",
       "        break;\n",
       "    case 1:\n",
       "        cursor = 'default';\n",
       "        break;\n",
       "    case 2:\n",
       "        cursor = 'crosshair';\n",
       "        break;\n",
       "    case 3:\n",
       "        cursor = 'move';\n",
       "        break;\n",
       "    }\n",
       "    fig.rubberband_canvas.style.cursor = cursor;\n",
       "}\n",
       "\n",
       "mpl.figure.prototype.handle_message = function(fig, msg) {\n",
       "    fig.message.textContent = msg['message'];\n",
       "}\n",
       "\n",
       "mpl.figure.prototype.handle_draw = function(fig, msg) {\n",
       "    // Request the server to send over a new figure.\n",
       "    fig.send_draw_message();\n",
       "}\n",
       "\n",
       "mpl.figure.prototype.handle_image_mode = function(fig, msg) {\n",
       "    fig.image_mode = msg['mode'];\n",
       "}\n",
       "\n",
       "mpl.figure.prototype.updated_canvas_event = function() {\n",
       "    // Called whenever the canvas gets updated.\n",
       "    this.send_message(\"ack\", {});\n",
       "}\n",
       "\n",
       "// A function to construct a web socket function for onmessage handling.\n",
       "// Called in the figure constructor.\n",
       "mpl.figure.prototype._make_on_message_function = function(fig) {\n",
       "    return function socket_on_message(evt) {\n",
       "        if (evt.data instanceof Blob) {\n",
       "            /* FIXME: We get \"Resource interpreted as Image but\n",
       "             * transferred with MIME type text/plain:\" errors on\n",
       "             * Chrome.  But how to set the MIME type?  It doesn't seem\n",
       "             * to be part of the websocket stream */\n",
       "            evt.data.type = \"image/png\";\n",
       "\n",
       "            /* Free the memory for the previous frames */\n",
       "            if (fig.imageObj.src) {\n",
       "                (window.URL || window.webkitURL).revokeObjectURL(\n",
       "                    fig.imageObj.src);\n",
       "            }\n",
       "\n",
       "            fig.imageObj.src = (window.URL || window.webkitURL).createObjectURL(\n",
       "                evt.data);\n",
       "            fig.updated_canvas_event();\n",
       "            fig.waiting = false;\n",
       "            return;\n",
       "        }\n",
       "        else if (typeof evt.data === 'string' && evt.data.slice(0, 21) == \"data:image/png;base64\") {\n",
       "            fig.imageObj.src = evt.data;\n",
       "            fig.updated_canvas_event();\n",
       "            fig.waiting = false;\n",
       "            return;\n",
       "        }\n",
       "\n",
       "        var msg = JSON.parse(evt.data);\n",
       "        var msg_type = msg['type'];\n",
       "\n",
       "        // Call the  \"handle_{type}\" callback, which takes\n",
       "        // the figure and JSON message as its only arguments.\n",
       "        try {\n",
       "            var callback = fig[\"handle_\" + msg_type];\n",
       "        } catch (e) {\n",
       "            console.log(\"No handler for the '\" + msg_type + \"' message type: \", msg);\n",
       "            return;\n",
       "        }\n",
       "\n",
       "        if (callback) {\n",
       "            try {\n",
       "                // console.log(\"Handling '\" + msg_type + \"' message: \", msg);\n",
       "                callback(fig, msg);\n",
       "            } catch (e) {\n",
       "                console.log(\"Exception inside the 'handler_\" + msg_type + \"' callback:\", e, e.stack, msg);\n",
       "            }\n",
       "        }\n",
       "    };\n",
       "}\n",
       "\n",
       "// from http://stackoverflow.com/questions/1114465/getting-mouse-location-in-canvas\n",
       "mpl.findpos = function(e) {\n",
       "    //this section is from http://www.quirksmode.org/js/events_properties.html\n",
       "    var targ;\n",
       "    if (!e)\n",
       "        e = window.event;\n",
       "    if (e.target)\n",
       "        targ = e.target;\n",
       "    else if (e.srcElement)\n",
       "        targ = e.srcElement;\n",
       "    if (targ.nodeType == 3) // defeat Safari bug\n",
       "        targ = targ.parentNode;\n",
       "\n",
       "    // jQuery normalizes the pageX and pageY\n",
       "    // pageX,Y are the mouse positions relative to the document\n",
       "    // offset() returns the position of the element relative to the document\n",
       "    var x = e.pageX - $(targ).offset().left;\n",
       "    var y = e.pageY - $(targ).offset().top;\n",
       "\n",
       "    return {\"x\": x, \"y\": y};\n",
       "};\n",
       "\n",
       "/*\n",
       " * return a copy of an object with only non-object keys\n",
       " * we need this to avoid circular references\n",
       " * http://stackoverflow.com/a/24161582/3208463\n",
       " */\n",
       "function simpleKeys (original) {\n",
       "  return Object.keys(original).reduce(function (obj, key) {\n",
       "    if (typeof original[key] !== 'object')\n",
       "        obj[key] = original[key]\n",
       "    return obj;\n",
       "  }, {});\n",
       "}\n",
       "\n",
       "mpl.figure.prototype.mouse_event = function(event, name) {\n",
       "    var canvas_pos = mpl.findpos(event)\n",
       "\n",
       "    if (name === 'button_press')\n",
       "    {\n",
       "        this.canvas.focus();\n",
       "        this.canvas_div.focus();\n",
       "    }\n",
       "\n",
       "    var x = canvas_pos.x * mpl.ratio;\n",
       "    var y = canvas_pos.y * mpl.ratio;\n",
       "\n",
       "    this.send_message(name, {x: x, y: y, button: event.button,\n",
       "                             step: event.step,\n",
       "                             guiEvent: simpleKeys(event)});\n",
       "\n",
       "    /* This prevents the web browser from automatically changing to\n",
       "     * the text insertion cursor when the button is pressed.  We want\n",
       "     * to control all of the cursor setting manually through the\n",
       "     * 'cursor' event from matplotlib */\n",
       "    event.preventDefault();\n",
       "    return false;\n",
       "}\n",
       "\n",
       "mpl.figure.prototype._key_event_extra = function(event, name) {\n",
       "    // Handle any extra behaviour associated with a key event\n",
       "}\n",
       "\n",
       "mpl.figure.prototype.key_event = function(event, name) {\n",
       "\n",
       "    // Prevent repeat events\n",
       "    if (name == 'key_press')\n",
       "    {\n",
       "        if (event.which === this._key)\n",
       "            return;\n",
       "        else\n",
       "            this._key = event.which;\n",
       "    }\n",
       "    if (name == 'key_release')\n",
       "        this._key = null;\n",
       "\n",
       "    var value = '';\n",
       "    if (event.ctrlKey && event.which != 17)\n",
       "        value += \"ctrl+\";\n",
       "    if (event.altKey && event.which != 18)\n",
       "        value += \"alt+\";\n",
       "    if (event.shiftKey && event.which != 16)\n",
       "        value += \"shift+\";\n",
       "\n",
       "    value += 'k';\n",
       "    value += event.which.toString();\n",
       "\n",
       "    this._key_event_extra(event, name);\n",
       "\n",
       "    this.send_message(name, {key: value,\n",
       "                             guiEvent: simpleKeys(event)});\n",
       "    return false;\n",
       "}\n",
       "\n",
       "mpl.figure.prototype.toolbar_button_onclick = function(name) {\n",
       "    if (name == 'download') {\n",
       "        this.handle_save(this, null);\n",
       "    } else {\n",
       "        this.send_message(\"toolbar_button\", {name: name});\n",
       "    }\n",
       "};\n",
       "\n",
       "mpl.figure.prototype.toolbar_button_onmouseover = function(tooltip) {\n",
       "    this.message.textContent = tooltip;\n",
       "};\n",
       "mpl.toolbar_items = [[\"Home\", \"Reset original view\", \"fa fa-home icon-home\", \"home\"], [\"Back\", \"Back to  previous view\", \"fa fa-arrow-left icon-arrow-left\", \"back\"], [\"Forward\", \"Forward to next view\", \"fa fa-arrow-right icon-arrow-right\", \"forward\"], [\"\", \"\", \"\", \"\"], [\"Pan\", \"Pan axes with left mouse, zoom with right\", \"fa fa-arrows icon-move\", \"pan\"], [\"Zoom\", \"Zoom to rectangle\", \"fa fa-square-o icon-check-empty\", \"zoom\"], [\"\", \"\", \"\", \"\"], [\"Download\", \"Download plot\", \"fa fa-floppy-o icon-save\", \"download\"]];\n",
       "\n",
       "mpl.extensions = [\"eps\", \"jpeg\", \"pdf\", \"png\", \"ps\", \"raw\", \"svg\", \"tif\"];\n",
       "\n",
       "mpl.default_extension = \"png\";var comm_websocket_adapter = function(comm) {\n",
       "    // Create a \"websocket\"-like object which calls the given IPython comm\n",
       "    // object with the appropriate methods. Currently this is a non binary\n",
       "    // socket, so there is still some room for performance tuning.\n",
       "    var ws = {};\n",
       "\n",
       "    ws.close = function() {\n",
       "        comm.close()\n",
       "    };\n",
       "    ws.send = function(m) {\n",
       "        //console.log('sending', m);\n",
       "        comm.send(m);\n",
       "    };\n",
       "    // Register the callback with on_msg.\n",
       "    comm.on_msg(function(msg) {\n",
       "        //console.log('receiving', msg['content']['data'], msg);\n",
       "        // Pass the mpl event to the overriden (by mpl) onmessage function.\n",
       "        ws.onmessage(msg['content']['data'])\n",
       "    });\n",
       "    return ws;\n",
       "}\n",
       "\n",
       "mpl.mpl_figure_comm = function(comm, msg) {\n",
       "    // This is the function which gets called when the mpl process\n",
       "    // starts-up an IPython Comm through the \"matplotlib\" channel.\n",
       "\n",
       "    var id = msg.content.data.id;\n",
       "    // Get hold of the div created by the display call when the Comm\n",
       "    // socket was opened in Python.\n",
       "    var element = $(\"#\" + id);\n",
       "    var ws_proxy = comm_websocket_adapter(comm)\n",
       "\n",
       "    function ondownload(figure, format) {\n",
       "        window.open(figure.imageObj.src);\n",
       "    }\n",
       "\n",
       "    var fig = new mpl.figure(id, ws_proxy,\n",
       "                           ondownload,\n",
       "                           element.get(0));\n",
       "\n",
       "    // Call onopen now - mpl needs it, as it is assuming we've passed it a real\n",
       "    // web socket which is closed, not our websocket->open comm proxy.\n",
       "    ws_proxy.onopen();\n",
       "\n",
       "    fig.parent_element = element.get(0);\n",
       "    fig.cell_info = mpl.find_output_cell(\"<div id='\" + id + \"'></div>\");\n",
       "    if (!fig.cell_info) {\n",
       "        console.error(\"Failed to find cell for figure\", id, fig);\n",
       "        return;\n",
       "    }\n",
       "\n",
       "    var output_index = fig.cell_info[2]\n",
       "    var cell = fig.cell_info[0];\n",
       "\n",
       "};\n",
       "\n",
       "mpl.figure.prototype.handle_close = function(fig, msg) {\n",
       "    var width = fig.canvas.width/mpl.ratio\n",
       "    fig.root.unbind('remove')\n",
       "\n",
       "    // Update the output cell to use the data from the current canvas.\n",
       "    fig.push_to_output();\n",
       "    var dataURL = fig.canvas.toDataURL();\n",
       "    // Re-enable the keyboard manager in IPython - without this line, in FF,\n",
       "    // the notebook keyboard shortcuts fail.\n",
       "    IPython.keyboard_manager.enable()\n",
       "    $(fig.parent_element).html('<img src=\"' + dataURL + '\" width=\"' + width + '\">');\n",
       "    fig.close_ws(fig, msg);\n",
       "}\n",
       "\n",
       "mpl.figure.prototype.close_ws = function(fig, msg){\n",
       "    fig.send_message('closing', msg);\n",
       "    // fig.ws.close()\n",
       "}\n",
       "\n",
       "mpl.figure.prototype.push_to_output = function(remove_interactive) {\n",
       "    // Turn the data on the canvas into data in the output cell.\n",
       "    var width = this.canvas.width/mpl.ratio\n",
       "    var dataURL = this.canvas.toDataURL();\n",
       "    this.cell_info[1]['text/html'] = '<img src=\"' + dataURL + '\" width=\"' + width + '\">';\n",
       "}\n",
       "\n",
       "mpl.figure.prototype.updated_canvas_event = function() {\n",
       "    // Tell IPython that the notebook contents must change.\n",
       "    IPython.notebook.set_dirty(true);\n",
       "    this.send_message(\"ack\", {});\n",
       "    var fig = this;\n",
       "    // Wait a second, then push the new image to the DOM so\n",
       "    // that it is saved nicely (might be nice to debounce this).\n",
       "    setTimeout(function () { fig.push_to_output() }, 1000);\n",
       "}\n",
       "\n",
       "mpl.figure.prototype._init_toolbar = function() {\n",
       "    var fig = this;\n",
       "\n",
       "    var nav_element = $('<div/>')\n",
       "    nav_element.attr('style', 'width: 100%');\n",
       "    this.root.append(nav_element);\n",
       "\n",
       "    // Define a callback function for later on.\n",
       "    function toolbar_event(event) {\n",
       "        return fig.toolbar_button_onclick(event['data']);\n",
       "    }\n",
       "    function toolbar_mouse_event(event) {\n",
       "        return fig.toolbar_button_onmouseover(event['data']);\n",
       "    }\n",
       "\n",
       "    for(var toolbar_ind in mpl.toolbar_items){\n",
       "        var name = mpl.toolbar_items[toolbar_ind][0];\n",
       "        var tooltip = mpl.toolbar_items[toolbar_ind][1];\n",
       "        var image = mpl.toolbar_items[toolbar_ind][2];\n",
       "        var method_name = mpl.toolbar_items[toolbar_ind][3];\n",
       "\n",
       "        if (!name) { continue; };\n",
       "\n",
       "        var button = $('<button class=\"btn btn-default\" href=\"#\" title=\"' + name + '\"><i class=\"fa ' + image + ' fa-lg\"></i></button>');\n",
       "        button.click(method_name, toolbar_event);\n",
       "        button.mouseover(tooltip, toolbar_mouse_event);\n",
       "        nav_element.append(button);\n",
       "    }\n",
       "\n",
       "    // Add the status bar.\n",
       "    var status_bar = $('<span class=\"mpl-message\" style=\"text-align:right; float: right;\"/>');\n",
       "    nav_element.append(status_bar);\n",
       "    this.message = status_bar[0];\n",
       "\n",
       "    // Add the close button to the window.\n",
       "    var buttongrp = $('<div class=\"btn-group inline pull-right\"></div>');\n",
       "    var button = $('<button class=\"btn btn-mini btn-primary\" href=\"#\" title=\"Stop Interaction\"><i class=\"fa fa-power-off icon-remove icon-large\"></i></button>');\n",
       "    button.click(function (evt) { fig.handle_close(fig, {}); } );\n",
       "    button.mouseover('Stop Interaction', toolbar_mouse_event);\n",
       "    buttongrp.append(button);\n",
       "    var titlebar = this.root.find($('.ui-dialog-titlebar'));\n",
       "    titlebar.prepend(buttongrp);\n",
       "}\n",
       "\n",
       "mpl.figure.prototype._root_extra_style = function(el){\n",
       "    var fig = this\n",
       "    el.on(\"remove\", function(){\n",
       "\tfig.close_ws(fig, {});\n",
       "    });\n",
       "}\n",
       "\n",
       "mpl.figure.prototype._canvas_extra_style = function(el){\n",
       "    // this is important to make the div 'focusable\n",
       "    el.attr('tabindex', 0)\n",
       "    // reach out to IPython and tell the keyboard manager to turn it's self\n",
       "    // off when our div gets focus\n",
       "\n",
       "    // location in version 3\n",
       "    if (IPython.notebook.keyboard_manager) {\n",
       "        IPython.notebook.keyboard_manager.register_events(el);\n",
       "    }\n",
       "    else {\n",
       "        // location in version 2\n",
       "        IPython.keyboard_manager.register_events(el);\n",
       "    }\n",
       "\n",
       "}\n",
       "\n",
       "mpl.figure.prototype._key_event_extra = function(event, name) {\n",
       "    var manager = IPython.notebook.keyboard_manager;\n",
       "    if (!manager)\n",
       "        manager = IPython.keyboard_manager;\n",
       "\n",
       "    // Check for shift+enter\n",
       "    if (event.shiftKey && event.which == 13) {\n",
       "        this.canvas_div.blur();\n",
       "        // select the cell after this one\n",
       "        var index = IPython.notebook.find_cell_index(this.cell_info[0]);\n",
       "        IPython.notebook.select(index + 1);\n",
       "    }\n",
       "}\n",
       "\n",
       "mpl.figure.prototype.handle_save = function(fig, msg) {\n",
       "    fig.ondownload(fig, null);\n",
       "}\n",
       "\n",
       "\n",
       "mpl.find_output_cell = function(html_output) {\n",
       "    // Return the cell and output element which can be found *uniquely* in the notebook.\n",
       "    // Note - this is a bit hacky, but it is done because the \"notebook_saving.Notebook\"\n",
       "    // IPython event is triggered only after the cells have been serialised, which for\n",
       "    // our purposes (turning an active figure into a static one), is too late.\n",
       "    var cells = IPython.notebook.get_cells();\n",
       "    var ncells = cells.length;\n",
       "    for (var i=0; i<ncells; i++) {\n",
       "        var cell = cells[i];\n",
       "        if (cell.cell_type === 'code'){\n",
       "            for (var j=0; j<cell.output_area.outputs.length; j++) {\n",
       "                var data = cell.output_area.outputs[j];\n",
       "                if (data.data) {\n",
       "                    // IPython >= 3 moved mimebundle to data attribute of output\n",
       "                    data = data.data;\n",
       "                }\n",
       "                if (data['text/html'] == html_output) {\n",
       "                    return [cell, data, j];\n",
       "                }\n",
       "            }\n",
       "        }\n",
       "    }\n",
       "}\n",
       "\n",
       "// Register the function which deals with the matplotlib target/channel.\n",
       "// The kernel may be null if the page has been refreshed.\n",
       "if (IPython.notebook.kernel != null) {\n",
       "    IPython.notebook.kernel.comm_manager.register_target('matplotlib', mpl.mpl_figure_comm);\n",
       "}\n"
      ],
      "text/plain": [
       "<IPython.core.display.Javascript object>"
      ]
     },
     "metadata": {},
     "output_type": "display_data"
    },
    {
     "data": {
      "text/html": [
       "<img src=\"data:image/png;base64,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\" width=\"640\">"
      ],
      "text/plain": [
       "<IPython.core.display.HTML object>"
      ]
     },
     "metadata": {},
     "output_type": "display_data"
    },
    {
     "data": {
      "text/plain": [
       "<Container object of 8 artists>"
      ]
     },
     "execution_count": 37,
     "metadata": {},
     "output_type": "execute_result"
    }
   ],
   "source": [
    "# or use barh for horizontal bar charts\n",
    "plt.figure()\n",
    "xvals = range(len(linear_data))\n",
    "plt.barh(xvals, linear_data, height = 0.3, color='b')\n",
    "plt.barh(xvals, exponential_data, height = 0.3, left=linear_data, color='r')\n"
   ]
  }
 ],
 "metadata": {
  "kernelspec": {
   "display_name": "Python 3",
   "language": "python",
   "name": "python3"
  },
  "language_info": {
   "codemirror_mode": {
    "name": "ipython",
    "version": 3
   },
   "file_extension": ".py",
   "mimetype": "text/x-python",
   "name": "python",
   "nbconvert_exporter": "python",
   "pygments_lexer": "ipython3",
   "version": "3.6.3"
  }
 },
 "nbformat": 4,
 "nbformat_minor": 1
}
